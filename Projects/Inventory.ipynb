{
 "cells": [
  {
   "cell_type": "code",
   "execution_count": 1,
   "metadata": {},
   "outputs": [],
   "source": [
    "#database\n",
    "db={}"
   ]
  },
  {
   "cell_type": "code",
   "execution_count": 2,
   "metadata": {},
   "outputs": [
    {
     "data": {
      "text/plain": [
       "50"
      ]
     },
     "execution_count": 2,
     "metadata": {},
     "output_type": "execute_result"
    }
   ],
   "source": [
    "dic={\"vadapav\":20,\"pepsi\":12,\"samosa\":50}\n",
    "dic[\"samosa\"]"
   ]
  },
  {
   "cell_type": "code",
   "execution_count": 3,
   "metadata": {},
   "outputs": [],
   "source": [
    "# Server(Backend)\n",
    "\n",
    "# Add function\n",
    "def addOrUpdateProduct(name,quantity):\n",
    "    if name in db.keys():\n",
    "        db[name]=db[name]+quantity\n",
    "    else:\n",
    "        db[name]=quantity\n",
    "        print(f\"{name} of quantity {quantity} has been added to database\")\n",
    "\n",
    "#open Inventory\n",
    "def readAllProduct():\n",
    "    for name,value in db.items():\n",
    "        print(f\"Product name : {name} Quantity: {value} \")\n",
    "\n",
    "def deleteProduct(name):\n",
    "    if name in db.keys():\n",
    "        del db[name]\n",
    "\n",
    "def Sale(name,quantity):\n",
    "    if name in db.keys():\n",
    "        db[name]=db[name]-quantity\n",
    "    else:\n",
    "        print(\"ye Yaha nahi milta kahin aur ja\")"
   ]
  },
  {
   "cell_type": "code",
   "execution_count": 6,
   "metadata": {},
   "outputs": [],
   "source": [
    "# Client(Frontend)\n",
    "def kachodi():\n",
    "    ChaluHai=True\n",
    "    while ChaluHai!=False:\n",
    "        print(\"*\"*15,\"Welcome to Reliance\",\"*\"*15)\n",
    "        print(\"_\"*50)\n",
    "        print(\"Choose Option\")\n",
    "        print(\"1. Add product\")\n",
    "        print(\"2. Show Products\")\n",
    "        print(\"3. Delete Products\")\n",
    "        print(\"4. sale Products\")\n",
    "        print(\"5. logOut\")\n",
    "        \n",
    "        choice= int(input(\"Enter your Choice in Number\"))\n",
    "        if( choice==1):\n",
    "            name1 = input(\"Enter Product name\")\n",
    "            quantity  = int(input(\"Enter Quantity\"))\n",
    "            addOrUpdateProduct(name1,quantity)\n",
    "        elif (choice==2):\n",
    "            readAllProduct()\n",
    "        \n",
    "        elif( choice==3):\n",
    "            name1 = input(\"Enter Product name\")\n",
    "            deleteProduct(name1)\n",
    "        elif (choice==4):\n",
    "            name1 = input(\"Enter Product name\")\n",
    "            quantity  = int(input(\"Enter Quantity\"))\n",
    "            Sale(name1,quantity)\n",
    "        elif choice==5:\n",
    "            ChaluHai=False\n",
    "        else:\n",
    "            print(\"incorrect option\")\n"
   ]
  },
  {
   "cell_type": "code",
   "execution_count": 7,
   "metadata": {},
   "outputs": [
    {
     "name": "stdout",
     "output_type": "stream",
     "text": [
      "*************** Welcome to Reliance ***************\n",
      "__________________________________________________\n",
      "Choose Option\n",
      "1. Add product\n",
      "2. Show Products\n",
      "3. Delete Products\n",
      "4. sale Products\n",
      "5. logOut\n",
      "kachodi of quantity 50 has been added to database\n",
      "*************** Welcome to Reliance ***************\n",
      "__________________________________________________\n",
      "Choose Option\n",
      "1. Add product\n",
      "2. Show Products\n",
      "3. Delete Products\n",
      "4. sale Products\n",
      "5. logOut\n",
      "samosa of quantity 50 has been added to database\n",
      "*************** Welcome to Reliance ***************\n",
      "__________________________________________________\n",
      "Choose Option\n",
      "1. Add product\n",
      "2. Show Products\n",
      "3. Delete Products\n",
      "4. sale Products\n",
      "5. logOut\n",
      "pizza of quantity 10 has been added to database\n",
      "*************** Welcome to Reliance ***************\n",
      "__________________________________________________\n",
      "Choose Option\n",
      "1. Add product\n",
      "2. Show Products\n",
      "3. Delete Products\n",
      "4. sale Products\n",
      "5. logOut\n",
      "Product name : kachodi Quantity: 50 \n",
      "Product name : samosa Quantity: 50 \n",
      "Product name : pizza Quantity: 10 \n",
      "*************** Welcome to Reliance ***************\n",
      "__________________________________________________\n",
      "Choose Option\n",
      "1. Add product\n",
      "2. Show Products\n",
      "3. Delete Products\n",
      "4. sale Products\n",
      "5. logOut\n",
      "Product name : kachodi Quantity: 50 \n",
      "Product name : samosa Quantity: 50 \n",
      "Product name : pizza Quantity: 10 \n",
      "*************** Welcome to Reliance ***************\n",
      "__________________________________________________\n",
      "Choose Option\n",
      "1. Add product\n",
      "2. Show Products\n",
      "3. Delete Products\n",
      "4. sale Products\n",
      "5. logOut\n",
      "*************** Welcome to Reliance ***************\n",
      "__________________________________________________\n",
      "Choose Option\n",
      "1. Add product\n",
      "2. Show Products\n",
      "3. Delete Products\n",
      "4. sale Products\n",
      "5. logOut\n",
      "Product name : kachodi Quantity: 50 \n",
      "Product name : samosa Quantity: 50 \n",
      "Product name : pizza Quantity: 8 \n",
      "*************** Welcome to Reliance ***************\n",
      "__________________________________________________\n",
      "Choose Option\n",
      "1. Add product\n",
      "2. Show Products\n",
      "3. Delete Products\n",
      "4. sale Products\n",
      "5. logOut\n",
      "*************** Welcome to Reliance ***************\n",
      "__________________________________________________\n",
      "Choose Option\n",
      "1. Add product\n",
      "2. Show Products\n",
      "3. Delete Products\n",
      "4. sale Products\n",
      "5. logOut\n",
      "Product name : kachodi Quantity: 50 \n",
      "Product name : samosa Quantity: 50 \n",
      "*************** Welcome to Reliance ***************\n",
      "__________________________________________________\n",
      "Choose Option\n",
      "1. Add product\n",
      "2. Show Products\n",
      "3. Delete Products\n",
      "4. sale Products\n",
      "5. logOut\n"
     ]
    }
   ],
   "source": [
    "#Main Run code\n",
    "if __name__==\"__main__\":\n",
    "    kachodi()\n"
   ]
  },
  {
   "cell_type": "code",
   "execution_count": null,
   "metadata": {},
   "outputs": [],
   "source": []
  }
 ],
 "metadata": {
  "kernelspec": {
   "display_name": "Python 3",
   "language": "python",
   "name": "python3"
  },
  "language_info": {
   "codemirror_mode": {
    "name": "ipython",
    "version": 3
   },
   "file_extension": ".py",
   "mimetype": "text/x-python",
   "name": "python",
   "nbconvert_exporter": "python",
   "pygments_lexer": "ipython3",
   "version": "3.12.1"
  }
 },
 "nbformat": 4,
 "nbformat_minor": 2
}
