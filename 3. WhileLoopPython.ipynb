{
  "nbformat": 4,
  "nbformat_minor": 0,
  "metadata": {
    "colab": {
      "provenance": [],
      "authorship_tag": "ABX9TyOlVtyzgvpVZeAPY2jdYK8E",
      "include_colab_link": true
    },
    "kernelspec": {
      "name": "python3",
      "display_name": "Python 3"
    },
    "language_info": {
      "name": "python"
    }
  },
  "cells": [
    {
      "cell_type": "markdown",
      "metadata": {
        "id": "view-in-github",
        "colab_type": "text"
      },
      "source": [
        "<a href=\"https://colab.research.google.com/github/avicomputersolutions/DSBatchCodingThinker/blob/main/WhileLoopPython.ipynb\" target=\"_parent\"><img src=\"https://colab.research.google.com/assets/colab-badge.svg\" alt=\"Open In Colab\"/></a>"
      ]
    },
    {
      "cell_type": "markdown",
      "source": [
        "** Looping**\n",
        "\n",
        "Looping means Repatition.\n",
        "\n",
        "Looping is used to repeat the operation as per the condition without writing it again and again.\n",
        "\n",
        "for example:\n",
        "\n",
        "if you want to sum all the numbers between 1 to 10\n",
        "then how you can do\n",
        "you can take a variable sum\n",
        "like\n",
        "\n",
        "\n",
        "```\n",
        "sum=0 # as we know in the starting sum always be zero\n",
        "sum+=1 # then we added 1 into sum so sum become 0+1=1\n",
        "sum+=2 # then we added 2 into sum now sum become 1+2=3\n",
        "sum+=3 # then we added 2 into sum now sum become 3+3=6\n",
        "sum+=4 # then we added 2 into sum now sum become 6+4=10\n",
        "sum+=5 # then we added 2 into sum now sum become 10+5=15\n",
        "sum+=6 # then we added 2 into sum now sum become 15+6=21\n",
        "sum+=7 # then we added 2 into sum now sum become 21+7=28\n",
        "sum+=8 # then we added 2 into sum now sum become 28+8=36\n",
        "sum+=9 # then we added 2 into sum now sum become 36+9=45\n",
        "sum+=10 # then we added 2 into sum now sum become 45+10=55\n",
        "print(sum)\n",
        "```\n",
        "\n",
        "but how we can reduce these lines\n",
        "\n",
        "Now we can see sum is same in all lines only value is changing\n",
        "so we can store these values to a variable using loop\n",
        "\n",
        "like\n",
        "```\n",
        "sum=0\n",
        "i=1\n",
        "while i<=10:\n",
        "  sum+=i\n",
        "\n",
        "print(sum)\n",
        "\n",
        "```\n",
        "\n",
        "Now you can see we store 1 to 10 into i and we repeated checking i for each condition till i is <=10"
      ],
      "metadata": {
        "id": "jmdjEtSz075y"
      }
    },
    {
      "cell_type": "markdown",
      "source": [
        "Print the sum of 1 to 10 using while  loop"
      ],
      "metadata": {
        "id": "F3JsI6jp5Skf"
      }
    },
    {
      "cell_type": "code",
      "execution_count": 2,
      "metadata": {
        "colab": {
          "base_uri": "https://localhost:8080/"
        },
        "id": "i84GpjK304F-",
        "outputId": "171e25fd-76e7-4400-96fe-4c27018070af"
      },
      "outputs": [
        {
          "output_type": "stream",
          "name": "stdout",
          "text": [
            "55\n"
          ]
        }
      ],
      "source": [
        "# range means 1 to n-1\n",
        "# but if we want to go i<=n this thing we can't do in for loop using python\n",
        "#so for this we are while loop\n",
        "# sum=0\n",
        "# for i in range(1,11):\n",
        "#   sum+=i\n",
        "\n",
        "# print(sum)\n",
        "# that we have to use n+1 in range\n",
        "sum=0\n",
        "i=1;\n",
        "while i<=10:\n",
        "  sum+=i\n",
        "  i+=1\n",
        "\n",
        "print(sum)"
      ]
    },
    {
      "cell_type": "markdown",
      "source": [
        "print even odd between a range given by user using while loop"
      ],
      "metadata": {
        "id": "5JYhQnOQ7C6_"
      }
    },
    {
      "cell_type": "code",
      "source": [
        "n1=int(input(\"Lower range\"))\n",
        "n2=int(input(\"upper range\"))\n",
        "while n1<=n2:\n",
        "  if n1%2==0:\n",
        "    print(\"even\")\n",
        "  else:\n",
        "    print(\"odd\")\n",
        "  n1+=1"
      ],
      "metadata": {
        "colab": {
          "base_uri": "https://localhost:8080/"
        },
        "id": "GA3WMGl77K2j",
        "outputId": "2f25d661-e144-488f-9b91-68693a26aba7"
      },
      "execution_count": 3,
      "outputs": [
        {
          "output_type": "stream",
          "name": "stdout",
          "text": [
            "Lower range1\n",
            "upper range10\n",
            "odd\n",
            "even\n",
            "odd\n",
            "even\n",
            "odd\n",
            "even\n",
            "odd\n",
            "even\n",
            "odd\n",
            "even\n"
          ]
        }
      ]
    },
    {
      "cell_type": "markdown",
      "source": [
        "print count of even and odd in range given by user using while loop"
      ],
      "metadata": {
        "id": "Xj2Fkucb8pYJ"
      }
    },
    {
      "cell_type": "code",
      "source": [
        "n1=int(input(\"Lower range\"))\n",
        "n2=int(input(\"upper range\"))\n",
        "even=0\n",
        "odd=0\n",
        "while n1<=n2:\n",
        "  if n1%2==0:\n",
        "    even+=1\n",
        "  else:\n",
        "    odd+=1\n",
        "  n1+=1\n",
        "\n",
        "print(\"count of even= \",even)\n",
        "print(\"count of odd= \",odd)\n"
      ],
      "metadata": {
        "colab": {
          "base_uri": "https://localhost:8080/"
        },
        "id": "nBmOk5SX8xUE",
        "outputId": "aca9fdbe-0203-4fe4-ad77-89168243ca7a"
      },
      "execution_count": 4,
      "outputs": [
        {
          "output_type": "stream",
          "name": "stdout",
          "text": [
            "Lower range1\n",
            "upper range25\n",
            "count of even=  12\n",
            "count of odd=  13\n"
          ]
        }
      ]
    },
    {
      "cell_type": "markdown",
      "source": [
        "Print the sum of square of a no in range given by user\n"
      ],
      "metadata": {
        "id": "QUV9Om6V_pN4"
      }
    },
    {
      "cell_type": "code",
      "source": [
        "n1=int(input(\"Lower range\"))\n",
        "n2=int(input(\"upper range\"))\n",
        "sum=0\n",
        "while n1<=n2:\n",
        "  sum+=n1**2\n",
        "  n1+=1\n",
        "\n",
        "print(\"Sum of Square =\", sum)\n"
      ],
      "metadata": {
        "colab": {
          "base_uri": "https://localhost:8080/"
        },
        "id": "UHuj0IhA_oFr",
        "outputId": "591b49f9-c31d-47e1-bc4a-d08fea4aa328"
      },
      "execution_count": 6,
      "outputs": [
        {
          "output_type": "stream",
          "name": "stdout",
          "text": [
            "Lower range2\n",
            "upper range50\n",
            "Sum of Square = 42924\n"
          ]
        }
      ]
    },
    {
      "cell_type": "markdown",
      "source": [
        "print sum of cube between given range"
      ],
      "metadata": {
        "id": "TFEtbO3mAeoI"
      }
    },
    {
      "cell_type": "code",
      "source": [
        "n1=int(input(\"Lower range\"))\n",
        "n2=int(input(\"upper range\"))\n",
        "sum=0\n",
        "while n1<=n2:\n",
        "  sum+=n1**3\n",
        "  n1+=1\n",
        "\n",
        "print(\"Sum of Cube =\", sum)\n"
      ],
      "metadata": {
        "colab": {
          "base_uri": "https://localhost:8080/"
        },
        "id": "JirF3LF3AXL4",
        "outputId": "50645c01-44a0-437f-a455-dc86480f6b5a"
      },
      "execution_count": 7,
      "outputs": [
        {
          "output_type": "stream",
          "name": "stdout",
          "text": [
            "Lower range3\n",
            "upper range77\n",
            "Sum of Cube = 9018000\n"
          ]
        }
      ]
    },
    {
      "cell_type": "markdown",
      "source": [
        "Number Questions\n",
        "\n",
        "1. printing digits of a no\n",
        "2. counting digits of a no\n",
        "3. sum of digits of a no"
      ],
      "metadata": {
        "id": "T2nm5U6FA3O7"
      }
    },
    {
      "cell_type": "code",
      "source": [
        "# printing Digits of a no\n",
        "n=int(input(\"Enter Number \"))\n",
        "while n>0:\n",
        "  digit=n%10\n",
        "  print(digit)\n",
        "  n//=10"
      ],
      "metadata": {
        "colab": {
          "base_uri": "https://localhost:8080/"
        },
        "id": "d4FwytsoBN1p",
        "outputId": "8e02592b-7d0b-43ba-d0f5-04a846279405"
      },
      "execution_count": 1,
      "outputs": [
        {
          "output_type": "stream",
          "name": "stdout",
          "text": [
            "Enter Number 243567\n",
            "7\n",
            "6\n",
            "5\n",
            "3\n",
            "4\n",
            "2\n"
          ]
        }
      ]
    },
    {
      "cell_type": "code",
      "source": [
        "# printing sum of  Digits of a no\n",
        "n=int(input(\"Enter Number \"))\n",
        "sum=0\n",
        "while n>0:\n",
        "  digit=n%10\n",
        "  sum+=digit\n",
        "  n//=10\n",
        "\n",
        "print(\"sum of digits =\", sum)"
      ],
      "metadata": {
        "colab": {
          "base_uri": "https://localhost:8080/"
        },
        "id": "_9b5YMPsCywo",
        "outputId": "1577b5e4-a686-49ff-bf3f-b5d9fbc9dc5b"
      },
      "execution_count": 3,
      "outputs": [
        {
          "output_type": "stream",
          "name": "stdout",
          "text": [
            "Enter Number 7988007320\n",
            "sum of digits = 44\n"
          ]
        }
      ]
    },
    {
      "cell_type": "code",
      "source": [
        "# printing sum of  Digits of a no\n",
        "n=int(input(\"Enter Number \"))\n",
        "count=0\n",
        "while n>0:\n",
        "  digit=n%10\n",
        "  count+=1\n",
        "  n//=10\n",
        "\n",
        "print(\"sum of digits =\", count)"
      ],
      "metadata": {
        "colab": {
          "base_uri": "https://localhost:8080/"
        },
        "id": "XyVZhuxRFA0T",
        "outputId": "3afa6060-db7b-439a-be9f-44dc0126f1c2"
      },
      "execution_count": 5,
      "outputs": [
        {
          "output_type": "stream",
          "name": "stdout",
          "text": [
            "Enter Number 12345\n",
            "sum of digits = 5\n"
          ]
        }
      ]
    },
    {
      "cell_type": "code",
      "source": [
        "# Calculate of X^n\n",
        "x=int(input(\"Enter the no\"))\n",
        "n=int(input(\"enter the power\"))\n",
        "power=1\n",
        "while n>0:\n",
        "  power*=x\n",
        "  n-=1\n",
        "\n",
        "print(\"Power of X^N =\" , power)"
      ],
      "metadata": {
        "colab": {
          "base_uri": "https://localhost:8080/"
        },
        "id": "9z9Hz4pxFjRu",
        "outputId": "25ddd261-3961-484b-c57d-93b0e5a83af6"
      },
      "execution_count": 7,
      "outputs": [
        {
          "output_type": "stream",
          "name": "stdout",
          "text": [
            "Enter the no4\n",
            "enter the power5\n",
            "Power of X^N = 1024\n"
          ]
        }
      ]
    }
  ]
}
