{
  "nbformat": 4,
  "nbformat_minor": 0,
  "metadata": {
    "colab": {
      "provenance": [],
      "authorship_tag": "ABX9TyPGuivXkUDLVzFWMcvb0E7r",
      "include_colab_link": true
    },
    "kernelspec": {
      "name": "python3",
      "display_name": "Python 3"
    },
    "language_info": {
      "name": "python"
    }
  },
  "cells": [
    {
      "cell_type": "markdown",
      "metadata": {
        "id": "view-in-github",
        "colab_type": "text"
      },
      "source": [
        "<a href=\"https://colab.research.google.com/github/avicomputersolutions/DSBatchCodingThinker/blob/main/Python1.ipynb\" target=\"_parent\"><img src=\"https://colab.research.google.com/assets/colab-badge.svg\" alt=\"Open In Colab\"/></a>"
      ]
    },
    {
      "cell_type": "markdown",
      "source": [
        "\n",
        "\n",
        "What is Output?\n",
        "\n",
        "Output is that we want to show on computer screen to the user\n",
        "\n",
        "**How to print an output in Python?**\n",
        "\n",
        "To print the output in python, we uses `print()`\n",
        "\n",
        "\n",
        "\n",
        "```\n",
        "print(output)\n",
        "```\n",
        "\n",
        "Different Way of output\n",
        "\n",
        "\n",
        "1.   Printing msg on Screen\n",
        "```\n",
        "print(\"msg\")\n",
        "```\n",
        "2.   printing variable on screen\n",
        "```\n",
        "print(variable_name)\n",
        "```\n",
        "3. printing msg and variable together\n",
        "```\n",
        "print(\"msg\",variable_name)\n",
        "```\n",
        "4. printing expression\n",
        "```\n",
        "print(exp)\n",
        "```\n",
        "5. printing msg + Expression\n",
        "```\n",
        "print(\"msg\",exp)\n",
        "```\n",
        "\n",
        "\n",
        "\n",
        "\n",
        "\n",
        "\n"
      ],
      "metadata": {
        "id": "8myW9Ms2lt4z"
      }
    },
    {
      "cell_type": "code",
      "source": [
        "#print hello world\n",
        "print(\"Hello world\")"
      ],
      "metadata": {
        "colab": {
          "base_uri": "https://localhost:8080/"
        },
        "id": "DF86oXGdrgYx",
        "outputId": "5471d60f-7c6a-4f10-b258-6fd631ce4353"
      },
      "execution_count": null,
      "outputs": [
        {
          "output_type": "stream",
          "name": "stdout",
          "text": [
            "Hello world\n"
          ]
        }
      ]
    },
    {
      "cell_type": "markdown",
      "source": [
        "**Variable**\n",
        "\n",
        "Variable is used to store the value/literals\n",
        "\n",
        "Rules of Creating variable:\n",
        "1. Should start with (A-Z)/(a-z)\n",
        "2. Should start with _ (underscore)\n",
        "3. should not start with numbers\n",
        "4. should not contains any space between words\n",
        "5. use Contextual and semantical words\n",
        "\n",
        "e.g.\n",
        "\n",
        "money\n",
        "\n",
        "marks\n",
        "\n",
        "time"
      ],
      "metadata": {
        "id": "RxdUN9whseD5"
      }
    },
    {
      "cell_type": "code",
      "source": [
        "#variable print\n",
        "money=10\n",
        "print(money)"
      ],
      "metadata": {
        "colab": {
          "base_uri": "https://localhost:8080/"
        },
        "id": "3OrSSb-gt5sX",
        "outputId": "7abcc421-6dc0-4081-b5f0-81aa32261074"
      },
      "execution_count": null,
      "outputs": [
        {
          "output_type": "stream",
          "name": "stdout",
          "text": [
            "10\n"
          ]
        }
      ]
    },
    {
      "cell_type": "code",
      "source": [
        "# msg+varibale\n",
        "print(\"Money = \",money)"
      ],
      "metadata": {
        "colab": {
          "base_uri": "https://localhost:8080/"
        },
        "id": "QSLEWdYwukJz",
        "outputId": "4b92b605-c168-4ae9-99cc-528300cf6b6a"
      },
      "execution_count": null,
      "outputs": [
        {
          "output_type": "stream",
          "name": "stdout",
          "text": [
            "Money =  10\n"
          ]
        }
      ]
    },
    {
      "cell_type": "code",
      "source": [
        "money=200"
      ],
      "metadata": {
        "id": "Av5SHzgrDRUE"
      },
      "execution_count": null,
      "outputs": []
    },
    {
      "cell_type": "code",
      "source": [
        "#Expression\n",
        "print(money+100)"
      ],
      "metadata": {
        "colab": {
          "base_uri": "https://localhost:8080/"
        },
        "id": "rnjeZOAqupTl",
        "outputId": "0f0b1ec5-1741-44b2-bff3-e7a51c99c256"
      },
      "execution_count": null,
      "outputs": [
        {
          "output_type": "stream",
          "name": "stdout",
          "text": [
            "300\n"
          ]
        }
      ]
    },
    {
      "cell_type": "code",
      "source": [
        "print(money)"
      ],
      "metadata": {
        "colab": {
          "base_uri": "https://localhost:8080/"
        },
        "id": "NJWuCSznCkZG",
        "outputId": "924ce58f-0148-42bf-b492-e434a9d7b94b"
      },
      "execution_count": null,
      "outputs": [
        {
          "output_type": "stream",
          "name": "stdout",
          "text": [
            "10\n"
          ]
        }
      ]
    },
    {
      "cell_type": "code",
      "source": [
        "#EXp+ msg\n",
        "print(\"New Value of Money AFTER bonus= \", money+100)"
      ],
      "metadata": {
        "colab": {
          "base_uri": "https://localhost:8080/"
        },
        "id": "04h9yEsou7As",
        "outputId": "d5bcc915-9dd6-42fd-eb8f-0974ec1f3351"
      },
      "execution_count": null,
      "outputs": [
        {
          "output_type": "stream",
          "name": "stdout",
          "text": [
            "New Value of Money AFTER bonus=  110\n"
          ]
        }
      ]
    },
    {
      "cell_type": "markdown",
      "source": [
        "Q1. let suppose you have given marks of two subject and you need to print value of marks in subject 1 and subject 2. then print total obtained marks and % of total marks\n"
      ],
      "metadata": {
        "id": "_aAtIMRGFDvb"
      }
    },
    {
      "cell_type": "code",
      "source": [
        "marks1=55\n",
        "marks2=65\n",
        "obtained=marks1+marks2\n",
        "print(\"Marks of Subject 1= \", marks1)\n",
        "print(\"Marks of Subject 2= \", marks2)\n",
        "print(\"Total obtained Marks = \",obtained)\n",
        "print(\" % of Total= \",obtained/2)"
      ],
      "metadata": {
        "id": "9At39pTGvIyK",
        "colab": {
          "base_uri": "https://localhost:8080/"
        },
        "outputId": "2ede0357-69f4-4c16-b730-8f7b9cb35bbe"
      },
      "execution_count": null,
      "outputs": [
        {
          "output_type": "stream",
          "name": "stdout",
          "text": [
            "Marks of Subject 1=  55\n",
            "Marks of Subject 2=  65\n",
            "Total obtained Marks =  120\n",
            " % of Total=  60.0\n"
          ]
        }
      ]
    }
  ]
}
