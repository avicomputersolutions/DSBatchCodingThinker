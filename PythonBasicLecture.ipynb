{
  "nbformat": 4,
  "nbformat_minor": 0,
  "metadata": {
    "colab": {
      "provenance": [],
      "authorship_tag": "ABX9TyMH2MeWZ+sh6N3QBr2TqKFj",
      "include_colab_link": true
    },
    "kernelspec": {
      "name": "python3",
      "display_name": "Python 3"
    },
    "language_info": {
      "name": "python"
    }
  },
  "cells": [
    {
      "cell_type": "markdown",
      "metadata": {
        "id": "view-in-github",
        "colab_type": "text"
      },
      "source": [
        "<a href=\"https://colab.research.google.com/github/avicomputersolutions/DSBatchCodingThinker/blob/main/PythonBasicLecture.ipynb\" target=\"_parent\"><img src=\"https://colab.research.google.com/assets/colab-badge.svg\" alt=\"Open In Colab\"/></a>"
      ]
    },
    {
      "cell_type": "markdown",
      "source": [
        "Python program to print Hello world"
      ],
      "metadata": {
        "id": "sQYCwP1-WAS9"
      }
    },
    {
      "cell_type": "code",
      "execution_count": null,
      "metadata": {
        "id": "RQiSJNxrT-uU",
        "colab": {
          "base_uri": "https://localhost:8080/"
        },
        "outputId": "9933fe9d-0b89-4f59-aecb-b4bf93ee895f"
      },
      "outputs": [
        {
          "output_type": "stream",
          "name": "stdout",
          "text": [
            "Heello World\n"
          ]
        }
      ],
      "source": [
        "print(\"Heello World\")"
      ]
    },
    {
      "cell_type": "markdown",
      "source": [
        "Python Program to print Variable value"
      ],
      "metadata": {
        "id": "CeUyWnArWW51"
      }
    },
    {
      "cell_type": "code",
      "source": [
        "a=20\n",
        "f=2.56\n",
        "s=\"Avi\"\n",
        "print(\"A= \",a,end=\",\")\n",
        "print(\"f= \",f, end=\",\")\n",
        "print(type(a))"
      ],
      "metadata": {
        "colab": {
          "base_uri": "https://localhost:8080/"
        },
        "id": "YcnFJfrGVq1p",
        "outputId": "ef113ca7-cddc-478c-fe75-335e9c8ae5e6"
      },
      "execution_count": null,
      "outputs": [
        {
          "output_type": "stream",
          "name": "stdout",
          "text": [
            "A=  20,f=  2.56,<class 'int'>\n"
          ]
        }
      ]
    },
    {
      "cell_type": "markdown",
      "source": [
        "Variable is IMMutable"
      ],
      "metadata": {
        "id": "RuCLoBbJa3YO"
      }
    },
    {
      "cell_type": "code",
      "source": [
        "a=20\n",
        "print(id(a))\n",
        "a=30\n",
        "print(id(a))"
      ],
      "metadata": {
        "colab": {
          "base_uri": "https://localhost:8080/"
        },
        "id": "XEEFTEXua2Pp",
        "outputId": "13363f66-ed0b-4a32-8540-206dfa49aa51"
      },
      "execution_count": null,
      "outputs": [
        {
          "output_type": "stream",
          "name": "stdout",
          "text": [
            "133501783229264\n",
            "133501783229584\n"
          ]
        }
      ]
    },
    {
      "cell_type": "markdown",
      "source": [
        "***Type Casting***\n",
        "\n",
        "Type casting is used to restrict the variable to assigned type\n",
        "\n",
        "We can do this using different function of type casting provided in python\n",
        "\n",
        "1. for integer -> int()\n",
        "2. for float -> float()\n",
        "3. for string -> str()\n",
        "4. for boolean-> bool()\n",
        "5. for complex -> complex()"
      ],
      "metadata": {
        "id": "EPQrmFgPie7w"
      }
    },
    {
      "cell_type": "code",
      "source": [
        "a=20.5\n",
        "print(type(a))"
      ],
      "metadata": {
        "colab": {
          "base_uri": "https://localhost:8080/"
        },
        "id": "IeOoZXF4jzc5",
        "outputId": "db78018a-d0fc-42b7-ced5-a0265d707f9a"
      },
      "execution_count": null,
      "outputs": [
        {
          "output_type": "stream",
          "name": "stdout",
          "text": [
            "<class 'float'>\n"
          ]
        }
      ]
    },
    {
      "cell_type": "code",
      "source": [
        "a=float(a)\n",
        "print(type(a))\n",
        "print(a)"
      ],
      "metadata": {
        "colab": {
          "base_uri": "https://localhost:8080/"
        },
        "id": "AAT3RMhykH-Y",
        "outputId": "f6130b63-54df-4e5f-c831-b695088968a8"
      },
      "execution_count": null,
      "outputs": [
        {
          "output_type": "stream",
          "name": "stdout",
          "text": [
            "<class 'float'>\n",
            "20.0\n"
          ]
        }
      ]
    },
    {
      "cell_type": "code",
      "source": [
        "a=str(a)\n",
        "print(a)\n",
        "print(type(a))\n"
      ],
      "metadata": {
        "colab": {
          "base_uri": "https://localhost:8080/"
        },
        "id": "Im00scdTkaHb",
        "outputId": "ee9c032c-e855-4588-dfe3-a65224ee4c89"
      },
      "execution_count": null,
      "outputs": [
        {
          "output_type": "stream",
          "name": "stdout",
          "text": [
            "20.0\n",
            "<class 'str'>\n"
          ]
        }
      ]
    },
    {
      "cell_type": "code",
      "source": [
        "a=complex(a)\n",
        "print(a)\n",
        "print(type(a))"
      ],
      "metadata": {
        "colab": {
          "base_uri": "https://localhost:8080/"
        },
        "id": "mEp-xKnIkurX",
        "outputId": "80d5b994-90e4-40ea-c131-4815fb3ef45c"
      },
      "execution_count": null,
      "outputs": [
        {
          "output_type": "stream",
          "name": "stdout",
          "text": [
            "(20.5+0j)\n",
            "<class 'complex'>\n"
          ]
        }
      ]
    },
    {
      "cell_type": "markdown",
      "source": [
        "**What is input?**\n",
        "\n",
        "Input is key on which we can perform some operation and can generate some output.\n",
        "\n",
        "Type of Input\n",
        "1. pre-defined input\n",
        "2. User defined input\n",
        "\n",
        "\n",
        "\n",
        "*   Pre-defined input :- when we have defined some value before performing the operation. so that we can test that our function is working according to our assumption. in this case we know that what will be given to function and what will be the output after performing operation on it\n",
        "*   User-defined:- User- defined input is that will be provided by the user at the time of actual operationalization of your function.\n",
        "its not a fixed input of fixed type.\n",
        "its runtime time\n",
        "\n"
      ],
      "metadata": {
        "id": "tgxWbTxOkxfE"
      }
    },
    {
      "cell_type": "code",
      "source": [
        "#pre-defined input\n",
        "num1=7\n",
        "num2=8 # here 7 and 8 are pre-defined\n",
        "print(num1+num2)"
      ],
      "metadata": {
        "id": "1hlaQ87LmHjo",
        "colab": {
          "base_uri": "https://localhost:8080/"
        },
        "outputId": "428c91de-0d0a-4ed8-9f79-2e0e2659c150"
      },
      "execution_count": null,
      "outputs": [
        {
          "output_type": "stream",
          "name": "stdout",
          "text": [
            "15\n"
          ]
        }
      ]
    },
    {
      "cell_type": "code",
      "source": [
        "# user-defined input\n",
        "# if you want to take user- defined input then\n",
        "# you have use input() function in python\n",
        "#By default input() function take input from user in string type\n",
        "# so that we need to type cast the input function with desired type\n",
        "num1=int(input())\n",
        "\n",
        "num2=int(input())\n",
        "\n",
        "print(num1,num2)\n",
        "print(num1+num2)"
      ],
      "metadata": {
        "colab": {
          "base_uri": "https://localhost:8080/"
        },
        "id": "xmw8YKBCngRc",
        "outputId": "e8f8e777-c3d3-4737-cc58-4254dadf20ff"
      },
      "execution_count": null,
      "outputs": [
        {
          "output_type": "stream",
          "name": "stdout",
          "text": [
            "7\n",
            "8\n",
            "7 8\n",
            "15\n"
          ]
        }
      ]
    },
    {
      "cell_type": "code",
      "source": [
        "#as we can that user is not having any hint regarding the Input\n",
        "# so how we can provide it\n",
        "num1=int(input(\"Enter First Number=  \"))\n",
        "num2=int(input(\"Enter Second Number=  \"))\n",
        "print(f\"Sum of {num1} and {num2} = \",num1+num2)\n",
        "#to print the variable inside a string we to use\n",
        "# formatted string with \" f\"\" \"  with string interpolation\n",
        "# for string interpolation we need to use { varibale_name }"
      ],
      "metadata": {
        "colab": {
          "base_uri": "https://localhost:8080/"
        },
        "id": "xAngZNvMqxwz",
        "outputId": "e902b975-735f-42dd-8fe3-b9ea92f03ca1"
      },
      "execution_count": null,
      "outputs": [
        {
          "output_type": "stream",
          "name": "stdout",
          "text": [
            "Enter First Number=  7\n",
            "Enter Second Number=  8\n",
            "Sum of 7 and 8 =  15\n"
          ]
        }
      ]
    },
    {
      "cell_type": "code",
      "source": [],
      "metadata": {
        "id": "bnEBaSTDojtm"
      },
      "execution_count": null,
      "outputs": []
    },
    {
      "cell_type": "markdown",
      "source": [
        "Now you task is :=\n",
        "1. Print the sum of two number by user Input\n",
        "2. Make a simple calucator using User Input\n",
        "3. calclucate the power and power root of any no and print the output\n",
        "4. perform the comparison between value and print whether is it true or false"
      ],
      "metadata": {
        "id": "-ECT45RT37zN"
      }
    },
    {
      "cell_type": "code",
      "source": [
        "#operator\n",
        "#Assignment\n",
        "# 1. =\n",
        "num = 1\n",
        "print(num)\n",
        "# 2. +=\n",
        "num +=20\n",
        "print(num)\n",
        "num +=20\n",
        "print(num)\n",
        "# 3. -=\n",
        "num -= 10\n",
        "print(num)\n",
        "\n",
        "# 4. *=\n",
        "num *=2\n",
        "print(num)\n",
        "\n",
        "num -= 10\n",
        "print(num)\n",
        "\n",
        "num *=2\n",
        "print(num)\n",
        "\n",
        "\n",
        "num %=10\n",
        "print(num)\n"
      ],
      "metadata": {
        "id": "rJI0KKNR5Bxi",
        "colab": {
          "base_uri": "https://localhost:8080/"
        },
        "outputId": "8a5837d2-1ddd-4556-8a50-8bda253ebe3c"
      },
      "execution_count": null,
      "outputs": [
        {
          "output_type": "stream",
          "name": "stdout",
          "text": [
            "1\n",
            "21\n",
            "41\n",
            "31\n",
            "62\n",
            "52\n",
            "104\n",
            "4\n"
          ]
        }
      ]
    },
    {
      "cell_type": "code",
      "source": [
        "# Floor Division ( // )\n",
        "# float - 8\n",
        "# int -4\n",
        "\n",
        "num=121\n",
        "print(num / 5)\n",
        "print(num // 5)"
      ],
      "metadata": {
        "colab": {
          "base_uri": "https://localhost:8080/"
        },
        "id": "GZUVNrEMOklJ",
        "outputId": "eaedf243-8206-4fb9-ac7e-720e9487c2f1"
      },
      "execution_count": null,
      "outputs": [
        {
          "output_type": "stream",
          "name": "stdout",
          "text": [
            "24.2\n",
            "24\n"
          ]
        }
      ]
    },
    {
      "cell_type": "code",
      "source": [
        "# Exponential Operator ( ** )\n",
        "num =2\n",
        "print( num * num * num * num * num )\n",
        "print(num ** 5)"
      ],
      "metadata": {
        "colab": {
          "base_uri": "https://localhost:8080/"
        },
        "id": "dpSKo98ZPUMe",
        "outputId": "dfe1d3f5-a3e1-45db-d3b9-511f980971c6"
      },
      "execution_count": null,
      "outputs": [
        {
          "output_type": "stream",
          "name": "stdout",
          "text": [
            "32\n",
            "32\n"
          ]
        }
      ]
    },
    {
      "cell_type": "code",
      "source": [
        "num1 =int(input())\n",
        "num2 =int(input())\n",
        "op = input()\n",
        "match op:\n",
        "   case '+':\n",
        "      print(num1 + num2)\n",
        "   case '-':\n",
        "      print(num1 - num2)\n",
        "   case '*':\n",
        "      print(num1 * num2)\n",
        "   case '/':\n",
        "      print(num1 / num2)\n",
        "   case _:\n",
        "      print(\"Wrong input\")"
      ],
      "metadata": {
        "colab": {
          "base_uri": "https://localhost:8080/"
        },
        "id": "CgB2PBrEP58G",
        "outputId": "35ac5a9a-bd2d-46e4-a09d-7cbdbeaa8cf8"
      },
      "execution_count": null,
      "outputs": [
        {
          "output_type": "stream",
          "name": "stdout",
          "text": [
            "89\n",
            "89\n",
            "//\n",
            "Wrong input\n"
          ]
        }
      ]
    },
    {
      "cell_type": "code",
      "source": [
        "num=int(input())\n",
        "power=int(input())\n",
        "print(num ** power)\n",
        "print(num ** (1/power))"
      ],
      "metadata": {
        "colab": {
          "base_uri": "https://localhost:8080/"
        },
        "id": "wDo_Ro_6SxhZ",
        "outputId": "574e44ae-0d91-408a-c359-7edc31ee872c"
      },
      "execution_count": null,
      "outputs": [
        {
          "output_type": "stream",
          "name": "stdout",
          "text": [
            "2\n",
            "5\n",
            "32\n",
            "1.148698354997035\n"
          ]
        }
      ]
    },
    {
      "cell_type": "code",
      "source": [
        "# Comparision ( > , < , <= , >= , == , !=   )\n",
        "\n",
        "num1=int(input())\n",
        "num2=int(input())\n",
        "print(num1 > num2 )\n",
        "print(num1 >= num2 )\n",
        "print(num1 < num2 )\n",
        "print(num1 <= num2 )\n",
        "print(num1 == num2 )\n",
        "print(num1 != num2 )"
      ],
      "metadata": {
        "colab": {
          "base_uri": "https://localhost:8080/"
        },
        "id": "A7nYnPZLUC1l",
        "outputId": "ea330996-d96c-4c53-976d-51d4edaf5bfc"
      },
      "execution_count": null,
      "outputs": [
        {
          "output_type": "stream",
          "name": "stdout",
          "text": [
            "213145\n",
            "5432765\n",
            "False\n",
            "False\n",
            "True\n",
            "True\n",
            "False\n",
            "True\n"
          ]
        }
      ]
    },
    {
      "cell_type": "code",
      "source": [
        "a=int(input())\n",
        "b=int(input())\n",
        "c=int(input())\n",
        "print( a>b and a>c)\n",
        "\n",
        "# T and T = T\n",
        "# T and F = F\n",
        "# F and F = F\n",
        "# F and T = F\n",
        "\n"
      ],
      "metadata": {
        "colab": {
          "base_uri": "https://localhost:8080/"
        },
        "id": "-JisHV4vVLAl",
        "outputId": "320b686b-a15b-43b1-c595-31f0d803dfef"
      },
      "execution_count": null,
      "outputs": [
        {
          "output_type": "stream",
          "name": "stdout",
          "text": [
            "3\n",
            "2\n",
            "4\n",
            "False\n"
          ]
        }
      ]
    },
    {
      "cell_type": "code",
      "source": [
        "# or operator\n",
        "a=int(input())\n",
        "b=int(input())\n",
        "c=int(input())\n",
        "print( a>b  or a==b)\n",
        "\n",
        "# T or T = T\n",
        "# T or F = T\n",
        "# F or T = T\n",
        "# F or F = F\n",
        "\n"
      ],
      "metadata": {
        "colab": {
          "base_uri": "https://localhost:8080/"
        },
        "id": "fCBS81DfWQxK",
        "outputId": "5e446fa6-eb58-42a1-8dd0-a22973c5f6fa"
      },
      "execution_count": null,
      "outputs": [
        {
          "output_type": "stream",
          "name": "stdout",
          "text": [
            "2\n",
            "3\n",
            "4\n",
            "False\n"
          ]
        }
      ]
    },
    {
      "cell_type": "code",
      "source": [
        "#MemberShip ( \" in operator \" and  \" not in operator \")\n",
        "\n",
        "num=int(input())\n",
        "print(num not in range(1,11))\n"
      ],
      "metadata": {
        "colab": {
          "base_uri": "https://localhost:8080/"
        },
        "id": "KoGHouNRXnTN",
        "outputId": "3d57aba0-1a6b-4a70-8d54-32b212a20f0e"
      },
      "execution_count": null,
      "outputs": [
        {
          "output_type": "stream",
          "name": "stdout",
          "text": [
            "11\n",
            "True\n"
          ]
        }
      ]
    },
    {
      "cell_type": "code",
      "source": [
        "#identity Operator ( is  and  is not)\n",
        "\n",
        "num=7\n",
        "print(num == 7)\n",
        "print( num is 7)\n",
        "\n",
        "print( num is not 7)"
      ],
      "metadata": {
        "colab": {
          "base_uri": "https://localhost:8080/"
        },
        "id": "e8i78bPdY4Gf",
        "outputId": "3259e1b1-fd38-4c0f-a92e-c6bec71b032c"
      },
      "execution_count": null,
      "outputs": [
        {
          "output_type": "stream",
          "name": "stdout",
          "text": [
            "True\n",
            "True\n",
            "False\n"
          ]
        },
        {
          "output_type": "stream",
          "name": "stderr",
          "text": [
            "<>:5: SyntaxWarning: \"is\" with a literal. Did you mean \"==\"?\n",
            "<>:7: SyntaxWarning: \"is not\" with a literal. Did you mean \"!=\"?\n",
            "<>:5: SyntaxWarning: \"is\" with a literal. Did you mean \"==\"?\n",
            "<>:7: SyntaxWarning: \"is not\" with a literal. Did you mean \"!=\"?\n",
            "<ipython-input-26-f9df9de30c5e>:5: SyntaxWarning: \"is\" with a literal. Did you mean \"==\"?\n",
            "  print( num is 7)\n",
            "<ipython-input-26-f9df9de30c5e>:7: SyntaxWarning: \"is not\" with a literal. Did you mean \"!=\"?\n",
            "  print( num is not 7)\n"
          ]
        }
      ]
    },
    {
      "cell_type": "code",
      "source": [
        "# Bitwise Operator\n",
        "# << = left shift\n",
        "# >> = right shift\n",
        "\n",
        "print( 2 ** 3)\n",
        "print( 3 << 3)\n",
        "print( (0 << 3) -1)\n",
        "\n",
        "print( 64 / 16)\n",
        "print( 64 >> 4)"
      ],
      "metadata": {
        "colab": {
          "base_uri": "https://localhost:8080/"
        },
        "id": "7T-3VvhHZ-3f",
        "outputId": "77edf77b-72c4-4f0c-bdca-939dd3a26303"
      },
      "execution_count": null,
      "outputs": [
        {
          "output_type": "stream",
          "name": "stdout",
          "text": [
            "8\n",
            "24\n",
            "-1\n",
            "4.0\n",
            "4\n"
          ]
        }
      ]
    }
  ]
}